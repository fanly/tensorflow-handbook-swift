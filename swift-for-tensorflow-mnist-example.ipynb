{
  "nbformat": 4,
  "nbformat_minor": 0,
  "metadata": {
    "colab": {
      "name": "Swift for Tensorflow MNIST Example.ipynb",
      "version": "0.3.2",
      "provenance": [],
      "collapsed_sections": [],
      "include_colab_link": true
    },
    "kernelspec": {
      "display_name": "Swift",
      "language": "swift",
      "name": "swift"
    },
    "accelerator": "GPU"
  },
  "cells": [
    {
      "cell_type": "markdown",
      "metadata": {
        "id": "view-in-github",
        "colab_type": "text"
      },
      "source": [
        "<a href=\"https://colab.research.google.com/github/huan/tensorflow-handbook-swift/blob/master/tensorflow-handbook-swift-example.ipynb\" target=\"_parent\"><img src=\"https://colab.research.google.com/assets/colab-badge.svg\" alt=\"Open In Colab\"/></a>"
      ]
    },
    {
      "cell_type": "markdown",
      "metadata": {
        "id": "gQA8-8fHTSY7",
        "colab_type": "text"
      },
      "source": [
        "# Swift MNIST Example\n",
        "\n",
        "Learn more from Github: https://github.com/huan/tensorflow-handbook-swift\n"
      ]
    },
    {
      "cell_type": "code",
      "metadata": {
        "id": "2LF5abquwnWo",
        "colab_type": "code",
        "colab": {}
      },
      "source": [
        "import TensorFlow\n",
        "import Python\n",
        "import Foundation"
      ],
      "execution_count": 0,
      "outputs": []
    },
    {
      "cell_type": "markdown",
      "metadata": {
        "id": "gF303ze8dxXv",
        "colab_type": "text"
      },
      "source": [
        "## Minist Dataset Helper"
      ]
    },
    {
      "cell_type": "code",
      "metadata": {
        "id": "m0Ce4qO38-pU",
        "colab_type": "code",
        "colab": {}
      },
      "source": [
        "class Mnist {\n",
        "\n",
        "  let mnistBaseURL = \"https://raw.githubusercontent.com/tensorflow/swift-models/master/Datasets/MNIST/\"\n",
        "  let mnistFiles = [\"train-images-idx3-ubyte\", \"train-labels-idx1-ubyte\"]\n",
        "  \n",
        "  var images: Tensor<Float>?\n",
        "  var labels: Tensor<Int32>?\n",
        "\n",
        "  init() {\n",
        "    // convert into tensors\n",
        "    (self.images, self.labels) = self.readMNIST(\n",
        "      imagesFile: self.mnistFiles[0],\n",
        "      labelsFile: self.mnistFiles[1]\n",
        "    )\n",
        "  }\n",
        "\n",
        "  // Split data into training and test\n",
        "  public func splitTrainTest() -> (\n",
        "    Tensor<Float>,\n",
        "    Tensor<Int32>,\n",
        "    Tensor<Float> ,\n",
        "    Tensor<Int32>\n",
        "  ) {\n",
        "    let data = self.images!\n",
        "    let labels = self.labels!\n",
        "\n",
        "    let N = Int(data.shape[0])\n",
        "    let split = Int(0.8 * Float(N))\n",
        "    \n",
        "    let trainX = data[0..<split]\n",
        "    let trainY = labels[0..<split]\n",
        "    \n",
        "    let testX = data[split..<N]\n",
        "    let testY = labels[split..<N]\n",
        "    \n",
        "    return (trainX, trainY, testX, testY)\n",
        "  }\n",
        "\n",
        "  // report accuracy of a batch \n",
        "  public func getAccuracy (\n",
        "    y:      Tensor<Int32>, \n",
        "    logits: Tensor<Float>\n",
        "  ) -> Float{\n",
        "    let out = Tensor<Int32>(logits.argmax(squeezingAxis: 1) .== y).sum().scalarized()\n",
        "    return Float(out) / Float(y.shape[0])\n",
        "  }\n",
        "\n",
        "  private func download() {\n",
        "    let urllibRequest = Python.import(\"urllib.request\")\n",
        "\n",
        "    for file in self.mnistFiles {\n",
        "      if !(FileManager.default.fileExists(atPath: file)) {\n",
        "        print(\"Downloading \\(file) ...\")\n",
        "        let url = self.mnistBaseURL + file\n",
        "        urllibRequest.urlretrieve(url, file)\n",
        "      }\n",
        "    }\n",
        "  }\n",
        "\n",
        "  /// Reads a file into an array of bytes.\n",
        "  private func readFile(_ path: String) -> [UInt8] {\n",
        "      let url = URL(fileURLWithPath: path)\n",
        "      let data = try! Data(contentsOf: url, options: [])\n",
        "      return [UInt8](data)\n",
        "  }\n",
        "\n",
        "  /// Reads MNIST images and labels from specified file paths.\n",
        "  private func readMNIST(\n",
        "    imagesFile: String,\n",
        "    labelsFile: String\n",
        "  ) -> (\n",
        "    images: Tensor<Float>,\n",
        "    labels: Tensor<Int32>\n",
        "  ) {\n",
        "    download()\n",
        "\n",
        "    print(\"Reading data.\")\n",
        "    let images = readFile(imagesFile).dropFirst(16).map(Float.init)\n",
        "    let labels = readFile(labelsFile).dropFirst(8).map(Int32.init)\n",
        "    let rowCount = Int(labels.count)\n",
        "    let imageHeight: Int = 28, imageWidth: Int = 28\n",
        "\n",
        "    print(\"Constructing data tensors.\")\n",
        "    return (\n",
        "        images: Tensor(shape: [rowCount, 1, imageHeight, imageWidth], scalars: images)\n",
        "                .transposed(withPermutations: [0, 2, 3, 1]) / 255, // NHWC\n",
        "        labels: Tensor(labels)\n",
        "    )\n",
        "  }\n",
        "}"
      ],
      "execution_count": 0,
      "outputs": []
    },
    {
      "cell_type": "markdown",
      "metadata": {
        "id": "MBwX4iMZz_dL",
        "colab_type": "text"
      },
      "source": [
        "## Define a Simple MLP Model"
      ]
    },
    {
      "cell_type": "code",
      "metadata": {
        "id": "NODylsfzz7Ls",
        "colab_type": "code",
        "colab": {}
      },
      "source": [
        "struct MLP: Layer {\n",
        "  typealias Input = Tensor<Float>\n",
        "  typealias Output = Tensor<Float>\n",
        "\n",
        "  var flatten = Flatten<Float>()\n",
        "  var dense = Dense<Float>(inputSize: 784, outputSize: 10)\n",
        "  \n",
        "  @differentiable\n",
        "  public func callAsFunction(_ input: Input) -> Output {\n",
        "    return input.sequenced(through: flatten, dense)\n",
        "  }  \n",
        "}\n",
        "\n",
        "var model = MLP()\n",
        "let optimizer = Adam(for: model)"
      ],
      "execution_count": 0,
      "outputs": []
    },
    {
      "cell_type": "markdown",
      "metadata": {
        "id": "lV2RzLtMeBBH",
        "colab_type": "text"
      },
      "source": [
        "## Training"
      ]
    },
    {
      "cell_type": "code",
      "metadata": {
        "id": "GzK9FPV3daq5",
        "colab_type": "code",
        "outputId": "5fbd87b4-5d9e-4f91-9fae-03d5bc846838",
        "colab": {
          "base_uri": "https://localhost:8080/",
          "height": 102
        }
      },
      "source": [
        "let mnist = Mnist()\n",
        "let (trainImages, trainLabels, testImages, testLabels) = mnist.splitTrainTest()\n",
        "\n",
        "let imageBatch = Dataset(elements: trainImages).batched(32)\n",
        "let labelBatch = Dataset(elements: trainLabels).batched(32)\n",
        "\n",
        "for (X, y) in zip(imageBatch, labelBatch) {\n",
        "  // Caculate the gradient\n",
        "  let (_loss, grads) = valueWithGradient(at: model) { model -> Tensor<Float> in\n",
        "    let logits = model(X)\n",
        "    return softmaxCrossEntropy(logits: logits, labels: y)\n",
        "  }\n",
        "\n",
        "  // Update parameters by optimizer\n",
        "  optimizer.update(&model.allDifferentiableVariables, along: grads)    \n",
        "}\n",
        "\n",
        "let logits = model(testImages)\n",
        "let acc = mnist.getAccuracy(y: testLabels, logits: logits)\n",
        "\n",
        "print(\"Test Accuracy: \\(acc)\" )"
      ],
      "execution_count": 4,
      "outputs": [
        {
          "output_type": "stream",
          "text": [
            "Downloading train-images-idx3-ubyte ...\n",
            "Downloading train-labels-idx1-ubyte ...\n",
            "Reading data.\n",
            "Constructing data tensors.\n",
            "Test Accuracy: 0.91216666\n"
          ],
          "name": "stdout"
        }
      ]
    },
    {
      "cell_type": "markdown",
      "metadata": {
        "id": "O5UpckxEsqNO",
        "colab_type": "text"
      },
      "source": [
        "- Credit: This example is inspired from [A set of notebooks explaining swift for tensorflow optimized to run in Google Collaboratory.](https://github.com/zaidalyafeai/Swift4TF)\n",
        "- License [Apache-2.0](https://github.com/tensorflow/swift-models/blob/stable/LICENSE)"
      ]
    }
  ]
}