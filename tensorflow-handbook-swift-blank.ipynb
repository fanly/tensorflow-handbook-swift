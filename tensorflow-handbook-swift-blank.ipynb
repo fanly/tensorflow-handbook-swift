{
  "nbformat": 4,
  "nbformat_minor": 0,
  "metadata": {
    "colab": {
      "name": "TensorFlow HandBook Swift Blank.ipynb",
      "provenance": [],
      "collapsed_sections": [],
      "include_colab_link": true
    },
    "kernelspec": {
      "name": "swift",
      "display_name": "Swift"
    }
  },
  "cells": [
    {
      "cell_type": "markdown",
      "metadata": {
        "id": "view-in-github",
        "colab_type": "text"
      },
      "source": [
        "<a href=\"https://colab.research.google.com/github/huan/tensorflow-handbook-swift/blob/master/tensorflow-handbook-swift-blank.ipynb\" target=\"_parent\"><img src=\"https://colab.research.google.com/assets/colab-badge.svg\" alt=\"Open In Colab\"/></a>"
      ]
    },
    {
      "cell_type": "markdown",
      "metadata": {
        "id": "HDgCQHVDxwCR",
        "colab_type": "text"
      },
      "source": [
        "# TensorFlow HandBook for Swift\n",
        "\n",
        "- Online Book: <https://tf.wiki>\n",
        "- Swift Chapter Repo: <https://github.com/huan/tensorflow-handbook-swift/>\n"
      ]
    },
    {
      "cell_type": "code",
      "metadata": {
        "id": "kZRlD4utdPuX",
        "colab_type": "code",
        "outputId": "972088a6-d349-48ac-c257-3f2cb4fd1a2d",
        "colab": {
          "base_uri": "https://localhost:8080/",
          "height": 34
        }
      },
      "source": [
        "import TensorFlow\n",
        "\n",
        "// 声明两个Tensor\n",
        "let x = Tensor<Float>([1])\n",
        "let y = Tensor<Float>([2])\n",
        "\n",
        "// 对两个 Tensor 做加法运算\n",
        "let w = x + y\n",
        "\n",
        "// 输出结果\n",
        "print(w)"
      ],
      "execution_count": 8,
      "outputs": [
        {
          "output_type": "stream",
          "text": [
            "[3.0]\r\n"
          ],
          "name": "stdout"
        }
      ]
    }
  ]
}