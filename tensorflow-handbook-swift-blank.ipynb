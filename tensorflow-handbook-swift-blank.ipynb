{
  "nbformat": 4,
  "nbformat_minor": 0,
  "metadata": {
    "colab": {
      "name": "TensorFlow HandBook Swift Blank.ipynb",
      "provenance": [],
      "collapsed_sections": [],
      "include_colab_link": true
    },
    "kernelspec": {
      "name": "swift",
      "display_name": "Swift"
    }
  },
  "cells": [
    {
      "cell_type": "markdown",
      "metadata": {
        "id": "view-in-github",
        "colab_type": "text"
      },
      "source": [
        "<a href=\"https://colab.research.google.com/github/huan/tensorflow-handbook-swift/blob/master/tensorflow-handbook-swift-blank.ipynb\" target=\"_parent\"><img src=\"https://colab.research.google.com/assets/colab-badge.svg\" alt=\"Open In Colab\"/></a>"
      ]
    },
    {
      "cell_type": "markdown",
      "metadata": {
        "id": "HDgCQHVDxwCR",
        "colab_type": "text"
      },
      "source": [
        "# TensorFlow HandBook for Swift\n",
        "\n",
        "- Online Book: <https://tf.wiki>\n",
        "- Swift Chapter Repo: <https://github.com/huan/tensorflow-handbook-swift/>\n"
      ]
    },
    {
      "cell_type": "code",
      "metadata": {
        "id": "kZRlD4utdPuX",
        "colab_type": "code",
        "colab": {
          "base_uri": "https://localhost:8080/",
          "height": 34
        },
        "outputId": "12d3d0de-b9d3-4094-be1d-0cbe8b80c3b1"
      },
      "source": [
        "import TensorFlow\n",
        "\n",
        "var x = Tensor<Float>([[1, 2], [3, 4]])\n",
        "print(\"Hello Swift! x.sum() = \", x.sum())"
      ],
      "execution_count": 7,
      "outputs": [
        {
          "output_type": "stream",
          "text": [
            "Hello Swift! x.sum() =  10.0\r\n"
          ],
          "name": "stdout"
        }
      ]
    }
  ]
}